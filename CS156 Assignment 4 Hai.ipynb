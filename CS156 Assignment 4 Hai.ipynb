{
 "cells": [
  {
   "cell_type": "markdown",
   "metadata": {},
   "source": [
    "## 1. Data preprocessing ##"
   ]
  },
  {
   "cell_type": "code",
   "execution_count": 1,
   "metadata": {},
   "outputs": [],
   "source": [
    "#Code from class to preprocess the image data\n",
    "import os\n",
    "os.chdir('D:\\/Downloads-D')\n",
    "import numpy as np\n",
    "from glob import glob\n",
    "from PIL import Image\n",
    "from resizeimage import resizeimage\n",
    "import numpy as np\n",
    "import matplotlib.pyplot as plt\n",
    "from sklearn import decomposition\n",
    "\n",
    "#Create a function that takes in the path for images and outputs the flattened X inputs\n",
    "def flatten(path):\n",
    "    '''\n",
    "    input: path - a string which is the path to the images \n",
    "    '''\n",
    "    # create paths for all images\n",
    "    man_images = glob(path)\n",
    "\n",
    "    man_flattened = []\n",
    "    # for each image path\n",
    "    for path in man_images:\n",
    "        # open it as a read file in binary mode\n",
    "        with open(path, 'r+b') as f:\n",
    "            # open it as an image\n",
    "            with Image.open(f) as image:\n",
    "                # resize the image to be more manageable\n",
    "                cover = resizeimage.resize_cover(image, [20, 20]) #convert to size 20,20\n",
    "                # flatten the matrix to an array and append it to all flattened images\n",
    "                man_flattened.append((np.array(cover).flatten(), 0))\n",
    "\n",
    "\n",
    "    # Flatten it once more\n",
    "    man_flattened = np.asarray(man_flattened)\n",
    "\n",
    "    # Declare which are the X and Y inputs\n",
    "    X = man_flattened[:,0]\n",
    "    Y = man_flattened[:,1]\n",
    "    X = np.delete(X, [987]) #The jersey dataset for some reason has a faulty image, so I delete it\n",
    "    Y = np.delete(Y, [987]) #Should not affect much as the data set is quite large\n",
    "    # Use np.stack to put the data into the right dimension\n",
    "    X = np.stack(i for i in X)\n",
    "    Y = np.stack(i for i in Y)\n",
    "    return X, Y"
   ]
  },
  {
   "cell_type": "code",
   "execution_count": 2,
   "metadata": {},
   "outputs": [
    {
     "name": "stderr",
     "output_type": "stream",
     "text": [
      "D:\\Downloads-D\\anaconda3\\lib\\site-packages\\numpy\\core\\_asarray.py:83: VisibleDeprecationWarning: Creating an ndarray from ragged nested sequences (which is a list-or-tuple of lists-or-tuples-or ndarrays with different lengths or shapes) is deprecated. If you meant to do this, you must specify 'dtype=object' when creating the ndarray\n",
      "  return array(a, dtype, copy=False, order=order)\n",
      "D:\\Downloads-D\\anaconda3\\lib\\site-packages\\IPython\\core\\interactiveshell.py:3343: FutureWarning: arrays to stack must be passed as a \"sequence\" type such as list or tuple. Support for non-sequence iterables such as generators is deprecated as of NumPy 1.16 and will raise an error in the future.\n",
      "  exec(code_obj, self.user_global_ns, self.user_ns)\n"
     ]
    }
   ],
   "source": [
    "#Loading the data\n",
    "X, y=flatten('jerseys/*')\n",
    "X2, y2 = flatten('woman_200/*')"
   ]
  },
  {
   "cell_type": "markdown",
   "metadata": {},
   "source": [
    "We see that the output y (the labels) are now all zeroes due to the configuration of the above function. We will now change the outputs for \"woman\" to 1."
   ]
  },
  {
   "cell_type": "code",
   "execution_count": 3,
   "metadata": {},
   "outputs": [],
   "source": [
    "for i in range(len(y2)):\n",
    "    y2[i] = 1"
   ]
  },
  {
   "cell_type": "markdown",
   "metadata": {},
   "source": [
    "Now, we move to concatenate the two datasets into one dataset for our models."
   ]
  },
  {
   "cell_type": "code",
   "execution_count": 4,
   "metadata": {},
   "outputs": [],
   "source": [
    "X_full = np.concatenate((X, X2))\n",
    "y_full = np.concatenate((y, y2))"
   ]
  },
  {
   "cell_type": "code",
   "execution_count": 5,
   "metadata": {},
   "outputs": [
    {
     "data": {
      "text/plain": [
       "(2600, 1200)"
      ]
     },
     "execution_count": 5,
     "metadata": {},
     "output_type": "execute_result"
    }
   ],
   "source": [
    "X_full.shape"
   ]
  },
  {
   "cell_type": "code",
   "execution_count": 6,
   "metadata": {},
   "outputs": [
    {
     "data": {
      "text/plain": [
       "(2600,)"
      ]
     },
     "execution_count": 6,
     "metadata": {},
     "output_type": "execute_result"
    }
   ],
   "source": [
    "y_full.shape"
   ]
  },
  {
   "cell_type": "markdown",
   "metadata": {},
   "source": [
    "By checking the shape of the data like above, we see that we have correctly processed the data: we have 2600 pictures, and thus we have 2600 labels (y). For x, our dimensions are 20 in width and length for each image, and then 3 more for the colors, so we have $20*20*3 = 1200$ in total.\n",
    "\n",
    "Now, we split the data into the training test (80%) and the test set (20%)."
   ]
  },
  {
   "cell_type": "code",
   "execution_count": 7,
   "metadata": {},
   "outputs": [],
   "source": [
    "from sklearn.model_selection import train_test_split\n",
    "X_train, X_test, y_train, y_test = train_test_split(X_full, y_full, test_size=0.2, random_state=2512)"
   ]
  },
  {
   "cell_type": "markdown",
   "metadata": {},
   "source": [
    "Finally, we scale the input data to help with convergence of the models we will use in the next sections."
   ]
  },
  {
   "cell_type": "code",
   "execution_count": 8,
   "metadata": {},
   "outputs": [],
   "source": [
    "from sklearn.preprocessing import StandardScaler\n",
    "X_train = StandardScaler().fit(X_train).transform(X_train)\n",
    "X_test = StandardScaler().fit(X_test).transform(X_test)"
   ]
  },
  {
   "cell_type": "markdown",
   "metadata": {},
   "source": [
    "We now have the data ready to train the models."
   ]
  },
  {
   "cell_type": "markdown",
   "metadata": {},
   "source": [
    "## 2. Linear classifier: Logistic Regression ##"
   ]
  },
  {
   "cell_type": "markdown",
   "metadata": {},
   "source": [
    "For this assignment, we choose the Logistic Regression model as our linear classifier."
   ]
  },
  {
   "cell_type": "code",
   "execution_count": 9,
   "metadata": {},
   "outputs": [
    {
     "data": {
      "text/plain": [
       "LogisticRegression(max_iter=2000)"
      ]
     },
     "execution_count": 9,
     "metadata": {},
     "output_type": "execute_result"
    }
   ],
   "source": [
    "from sklearn.linear_model import LogisticRegression\n",
    "logistic_model = LogisticRegression(max_iter = 2000)\n",
    "logistic_model.fit(X_train, y_train)"
   ]
  },
  {
   "cell_type": "code",
   "execution_count": 10,
   "metadata": {},
   "outputs": [
    {
     "name": "stdout",
     "output_type": "stream",
     "text": [
      "Accuracy of logistic regression, training set, is 0.9004807692307693\n"
     ]
    }
   ],
   "source": [
    "print(\"Accuracy of logistic regression, training set, is\", logistic_model.score(X_train, y_train))"
   ]
  },
  {
   "cell_type": "code",
   "execution_count": 11,
   "metadata": {},
   "outputs": [
    {
     "name": "stdout",
     "output_type": "stream",
     "text": [
      "Accuracy of logistic regression, test set, is 0.6115384615384616\n"
     ]
    }
   ],
   "source": [
    "print(\"Accuracy of logistic regression, test set, is\",logistic_model.score(X_test, y_test))"
   ]
  },
  {
   "cell_type": "markdown",
   "metadata": {},
   "source": [
    "## 3. Logistic regression with PCA ##"
   ]
  },
  {
   "cell_type": "markdown",
   "metadata": {},
   "source": [
    "First, we implement PCA. We test with different numbers of components to find the optimal number:"
   ]
  },
  {
   "cell_type": "code",
   "execution_count": 12,
   "metadata": {},
   "outputs": [],
   "source": [
    "from sklearn import decomposition"
   ]
  },
  {
   "cell_type": "code",
   "execution_count": 13,
   "metadata": {},
   "outputs": [],
   "source": [
    "var_explained_list=[]\n",
    "x_axis=[]\n",
    "for i in range(100):\n",
    "    x_axis.append(i)\n",
    "    pca = decomposition.PCA(n_components=i)\n",
    "    pca.fit(X_train)\n",
    "    var_explained_list.append(sum(pca.explained_variance_ratio_))"
   ]
  },
  {
   "cell_type": "code",
   "execution_count": 14,
   "metadata": {},
   "outputs": [
    {
     "data": {
      "image/png": "[encoded data removed]",
      "text/plain": [
       "<Figure size 432x288 with 1 Axes>"
      ]
     },
     "metadata": {
      "needs_background": "light"
     },
     "output_type": "display_data"
    }
   ],
   "source": [
    "plt.plot(x_axis, var_explained_list)\n",
    "plt.xlabel(\"number of components\")\n",
    "plt.ylabel(\"variance explained\")\n",
    "plt.show()"
   ]
  },
  {
   "cell_type": "markdown",
   "metadata": {},
   "source": [
    "From the graph above, we see that there will be significant diminishing utility (one extra component explain a diminishing value of extra variance) after around 10 components. Therefore, we will choose n_components = 10."
   ]
  },
  {
   "cell_type": "code",
   "execution_count": 15,
   "metadata": {},
   "outputs": [],
   "source": [
    "#Conduct PCA on the data\n",
    "pca = decomposition.PCA(n_components=10)\n",
    "pca.fit(X_train)\n",
    "#transforming the data\n",
    "X_train_transformed = pca.transform(X_train)\n",
    "X_test_transformed = pca.transform(X_test)"
   ]
  },
  {
   "cell_type": "code",
   "execution_count": 16,
   "metadata": {},
   "outputs": [
    {
     "data": {
      "text/plain": [
       "LogisticRegression(max_iter=1000)"
      ]
     },
     "execution_count": 16,
     "metadata": {},
     "output_type": "execute_result"
    }
   ],
   "source": [
    "#Conduct logistic regression on the PCA-ed data\n",
    "logistic_model_pca = LogisticRegression(max_iter = 1000)\n",
    "logistic_model_pca.fit(X_train_transformed, y_train)"
   ]
  },
  {
   "cell_type": "code",
   "execution_count": 17,
   "metadata": {},
   "outputs": [
    {
     "name": "stdout",
     "output_type": "stream",
     "text": [
      "Accuracy of PCA-ed logistic regression, training set, is 0.6317307692307692\n"
     ]
    }
   ],
   "source": [
    "print(\"Accuracy of PCA-ed logistic regression, training set, is\",logistic_model_pca.score(X_train_transformed, y_train))"
   ]
  },
  {
   "cell_type": "code",
   "execution_count": 18,
   "metadata": {},
   "outputs": [
    {
     "name": "stdout",
     "output_type": "stream",
     "text": [
      "Accuracy of PCA-ed logistic regression, test set, is 0.6192307692307693\n"
     ]
    }
   ],
   "source": [
    "print(\"Accuracy of PCA-ed logistic regression, test set, is\",logistic_model_pca.score(X_test_transformed, y_test))"
   ]
  },
  {
   "cell_type": "markdown",
   "metadata": {},
   "source": [
    "## 4. Logistic regression with LDA ##"
   ]
  },
  {
   "cell_type": "code",
   "execution_count": 19,
   "metadata": {},
   "outputs": [
    {
     "data": {
      "text/plain": [
       "LinearDiscriminantAnalysis()"
      ]
     },
     "execution_count": 19,
     "metadata": {},
     "output_type": "execute_result"
    }
   ],
   "source": [
    "#Conducting LDA on the data\n",
    "from sklearn.discriminant_analysis import LinearDiscriminantAnalysis\n",
    "lda = LinearDiscriminantAnalysis()\n",
    "lda.fit(X_train, y_train)"
   ]
  },
  {
   "cell_type": "code",
   "execution_count": 20,
   "metadata": {},
   "outputs": [],
   "source": [
    "#tranforming the data\n",
    "X_train_lda = lda.transform(X_train)\n",
    "X_test_lda = lda.transform(X_test)"
   ]
  },
  {
   "cell_type": "code",
   "execution_count": 21,
   "metadata": {},
   "outputs": [
    {
     "data": {
      "text/plain": [
       "LogisticRegression(max_iter=1000)"
      ]
     },
     "execution_count": 21,
     "metadata": {},
     "output_type": "execute_result"
    }
   ],
   "source": [
    "#Conduct logistic regression on the LDA-ed data\n",
    "logistic_model_lda = LogisticRegression(max_iter = 1000)\n",
    "logistic_model_lda.fit(X_train_lda, y_train)"
   ]
  },
  {
   "cell_type": "code",
   "execution_count": 22,
   "metadata": {},
   "outputs": [
    {
     "name": "stdout",
     "output_type": "stream",
     "text": [
      "Accuracy of LDA-ed logistic regression, training set, is 0.9177884615384615\n"
     ]
    }
   ],
   "source": [
    "print(\"Accuracy of LDA-ed logistic regression, training set, is\", logistic_model_lda.score(X_train_lda, y_train))"
   ]
  },
  {
   "cell_type": "code",
   "execution_count": 23,
   "metadata": {},
   "outputs": [
    {
     "name": "stdout",
     "output_type": "stream",
     "text": [
      "Accuracy of LDA-ed logistic regression, test set, is 0.6076923076923076\n"
     ]
    }
   ],
   "source": [
    "print(\"Accuracy of LDA-ed logistic regression, test set, is\", logistic_model_lda.score(X_test_lda, y_test))"
   ]
  },
  {
   "cell_type": "markdown",
   "metadata": {},
   "source": [
    "## 5. Results ##"
   ]
  },
  {
   "cell_type": "markdown",
   "metadata": {},
   "source": [
    "From the above implementation, we have the following results:\n",
    "\n",
    "a. Logistic Regression:\n",
    "\n",
    "Train accuracy: 0.90\n",
    "\n",
    "Test accuracy: 0.61\n",
    "\n",
    "b. Logistic Regression with PCA: \n",
    "\n",
    "Train accuracy: 0.63\n",
    "\n",
    "Test accuracy: 0.62\n",
    "\n",
    "c. Logistic Regression with LDA:\n",
    "\n",
    "Train accuracy: 0.92\n",
    "\n",
    "Test accuracy: 0.61"
   ]
  },
  {
   "cell_type": "markdown",
   "metadata": {},
   "source": [
    "Comments:\n",
    "\n",
    "By definition, Logistic Regression is a linear, supervised learning model that determines if a data point, with its given features (inputs) has a higher or lower probability of being in either class (threshold is often 0.5). Meanwhile, the PCA and the LDA are both methods to generate an alternative representation of the data through dimensionality reduction. However, the difference is that LDA takes the labels into account (it is a supervised learning method), while the PCA does not (it is an unsupervised learning method). The PCA also significantly simplifies the data (we reduced to only the top 10 components above).\n",
    "\n",
    "Since supervised learning models are trained using labels, they often give a more accurate results on the training set. However, unsupervised learning models may yield more generalizable results - that is, the accuracy of the test set and the training set is not too different. \n",
    "\n",
    "This is shown through the result - using PCA decreases the accuracy of the training set, as it does not use the labels. The remaining two models, logistic regression and logistic regression with LDA, does significantly better in the training set thanks to using the labels to train. However, we see that there is overfitting in those two models - when it comes to the test set, all three methods have quite similar results. \n",
    "\n"
   ]
  },
  {
   "cell_type": "code",
   "execution_count": null,
   "metadata": {},
   "outputs": [],
   "source": []
  }
 ],
 "metadata": {
  "kernelspec": {
   "display_name": "Python 3",
   "language": "python",
   "name": "python3"
  },
  "language_info": {
   "codemirror_mode": {
    "name": "ipython",
    "version": 3
   },
   "file_extension": ".py",
   "mimetype": "text/x-python",
   "name": "python",
   "nbconvert_exporter": "python",
   "pygments_lexer": "ipython3",
   "version": "3.8.3"
  }
 },
 "nbformat": 4,
 "nbformat_minor": 4
}
